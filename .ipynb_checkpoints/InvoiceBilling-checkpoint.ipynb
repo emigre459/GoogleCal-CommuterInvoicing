{
 "cells": [
  {
   "cell_type": "markdown",
   "metadata": {},
   "source": [
    "# Cameron Station Commuter Invoice Creator\n",
    "\n",
    "The purpose of the code in here is to generate nice and easy invoices for our various commuters throughout a given period of time (usually a calendar month).\n",
    "\n",
    "Ultimately, this code should record rides by date, sort them into rider-specific data frames, and spit out a nicely formatted string/invoice object (if I can find a Python package for that) that will tell a given rider the dates and times (e.g. Morning or Evening) that they rode with us, plus the total amount they owe us.\n",
    "\n",
    "**First things first, export the Commuter Google calendar as `calendar_data.ics` so we can ingest it!**"
   ]
  },
  {
   "cell_type": "markdown",
   "metadata": {},
   "source": [
    "## Ingesting Google Calendar export"
   ]
  },
  {
   "cell_type": "markdown",
   "metadata": {},
   "source": [
    "OK, now that we have our calender file, let's continue by defining a function that will allow us to pull in icalendar data objects and spit out useful strings."
   ]
  },
  {
   "cell_type": "code",
   "execution_count": 81,
   "metadata": {},
   "outputs": [],
   "source": [
    "from icalendar import Calendar, Event\n",
    "import datetime as dt\n",
    "import pandas as pd\n",
    "\n",
    "MORNING_COMMUTE_TIME = dt.time(hour = 8, minute = 0)\n",
    "EVENING_COMMUTE_TIME = dt.time(hour = 17, minute = 15)\n",
    "\n",
    "#Rate (in USD) per commuter per ride\n",
    "GOING_RATE = 3\n",
    "\n",
    "def record_maker(event_summary, event_date):\n",
    "    \"\"\"\n",
    "    Extract info about commuter event and return in a useful format\n",
    "    \n",
    "    event_summary: icalendar component summary vText describing the title of the event. Expected\n",
    "                    to be of the format \"Passenger #X: Passenger_Name\"\n",
    "    event_date: icalendar component datetime value. Provides info on both the date of the commute\n",
    "                and the time (morning vs. evening) that the commute took place.\n",
    "                \n",
    "    Returns list of format [Date, Commute Time, Passenger Name]\n",
    "    \"\"\"\n",
    "    \n",
    "    #[Passenger Num Label, Passenger Name]\n",
    "    passenger_info = summary.split(\": \")\n",
    "\n",
    "    if dtstart.time() == MORNING_COMMUTE_TIME:\n",
    "        commute_time = \"Morning\"        \n",
    "    elif dtstart.time() == EVENING_COMMUTE_TIME:\n",
    "        commute_time = \"Evening\"\n",
    "    else:\n",
    "        commute_time = \"ERROR! Event time doesn't match commute windows!\"\n",
    "        \n",
    "    output = [dtstart.date().strftime(\"%x\"), commute_time, passenger_info[1]]\n",
    "    \n",
    "    if passenger_info[1] != \"\":\n",
    "        return output\n",
    "    else:\n",
    "        return []"
   ]
  },
  {
   "cell_type": "code",
   "execution_count": 82,
   "metadata": {},
   "outputs": [],
   "source": [
    "#The start and end dates the invoice should cover. The invoice will be INCLUSIVE of these dates\n",
    "invoice_startdate = dt.date(2018,4,30)\n",
    "invoice_enddate = dt.date(2018,5,31)\n",
    "\n",
    "data_dict = {\"Date\": [],\n",
    "            \"Commute Time\": [],\n",
    "            \"Passenger Name\": []}\n",
    "\n",
    "with open('calendar_data.ics','rb') as f:\n",
    "    gcal = Calendar.from_ical(f.read())\n",
    "    for component in gcal.walk():\n",
    "        temp_data = []\n",
    "        \n",
    "        #Check to make sure we skip useless calendar data\n",
    "        if component.get('summary'):\n",
    "            summary = component.get('summary')\n",
    "            dtstart = component.get('dtstart').dt\n",
    "            \n",
    "            #Check to make sure we're only looking at the period of time we want to invoice\n",
    "            if dtstart.date() >= invoice_startdate and dtstart.date() <= invoice_enddate:\n",
    "                temp_data = record_maker(summary, dtstart)\n",
    "                \n",
    "                #Make sure we're only recording records that include actual passengers\n",
    "                if temp_data:\n",
    "                    data_dict[\"Date\"].append(temp_data[0])\n",
    "                    data_dict['Commute Time'].append(temp_data[1])\n",
    "                    data_dict[\"Passenger Name\"].append(temp_data[2])\n",
    "                \n",
    "                #print(\"Summary: {}\".format(summary))\n",
    "                #print(\"dtstart: {}\\n\".format(dtstart))\n",
    "                #print(\"Types of Summary and dtstart, resp. = {} and {}\".format(type(summary), type(dtstart)))"
   ]
  },
  {
   "cell_type": "markdown",
   "metadata": {},
   "source": [
    "## Making a Nice Date- and Time-Resolved Data Frame"
   ]
  },
  {
   "cell_type": "code",
   "execution_count": 96,
   "metadata": {},
   "outputs": [
    {
     "data": {
      "text/html": [
       "<div>\n",
       "<style scoped>\n",
       "    .dataframe tbody tr th:only-of-type {\n",
       "        vertical-align: middle;\n",
       "    }\n",
       "\n",
       "    .dataframe tbody tr th {\n",
       "        vertical-align: top;\n",
       "    }\n",
       "\n",
       "    .dataframe thead th {\n",
       "        text-align: right;\n",
       "    }\n",
       "</style>\n",
       "<table border=\"1\" class=\"dataframe\">\n",
       "  <thead>\n",
       "    <tr style=\"text-align: right;\">\n",
       "      <th></th>\n",
       "      <th>Commute Time</th>\n",
       "      <th>Date</th>\n",
       "      <th>Passenger Name</th>\n",
       "    </tr>\n",
       "  </thead>\n",
       "  <tbody>\n",
       "    <tr>\n",
       "      <th>1</th>\n",
       "      <td>Evening</td>\n",
       "      <td>05/07/18</td>\n",
       "      <td>Sarah</td>\n",
       "    </tr>\n",
       "    <tr>\n",
       "      <th>0</th>\n",
       "      <td>Evening</td>\n",
       "      <td>05/09/18</td>\n",
       "      <td>Sarah</td>\n",
       "    </tr>\n",
       "    <tr>\n",
       "      <th>2</th>\n",
       "      <td>Evening</td>\n",
       "      <td>05/16/18</td>\n",
       "      <td>Sarah</td>\n",
       "    </tr>\n",
       "  </tbody>\n",
       "</table>\n",
       "</div>"
      ],
      "text/plain": [
       "  Commute Time      Date Passenger Name\n",
       "1      Evening  05/07/18          Sarah\n",
       "0      Evening  05/09/18          Sarah\n",
       "2      Evening  05/16/18          Sarah"
      ]
     },
     "execution_count": 96,
     "metadata": {},
     "output_type": "execute_result"
    }
   ],
   "source": [
    "full_record = pd.DataFrame(data_dict)\n",
    "full_record.sort_values([\"Date\", \"Passenger Name\"], inplace=True)\n",
    "full_record"
   ]
  },
  {
   "cell_type": "markdown",
   "metadata": {},
   "source": [
    "## Time to Generate That Invoice\n",
    "\n",
    "Likely the easiest thing to do here is to output an Excel file that only spits out dates of rides and commute segments (e.g. Morning or Evening) for each rider, making a new sheet for each new rider name. Then I can copy and paste those data sets into my Word-based invoice template and VOILA! Done."
   ]
  },
  {
   "cell_type": "code",
   "execution_count": 146,
   "metadata": {},
   "outputs": [],
   "source": [
    "#Write each passenger's data as its own sheet/tab in the output Excel file\n",
    "from os import path\n",
    "\n",
    "#Can't get it to save files outside of the working directory for some reason...\n",
    "#filepath = path.expanduser(r\"../../../Dropbox/'Shared Folder - Becky and Dave'/Finances/Commuting/\")\n",
    "filepath = dt.date.today().isoformat() + \"_CommuterInvoices.xlsx\"\n",
    "\n",
    "writer = pd.ExcelWriter(filepath)\n",
    "\n",
    "#Iterate through the unique passenger names in the dataframe\n",
    "for name in full_record[\"Passenger Name\"].unique():\n",
    "    temp_df = full_record.groupby(\"Passenger Name\").get_group(name)\n",
    "    #Remove the Name field, as that will already be in the sheet name\n",
    "    temp_df = temp_df.drop(\"Passenger Name\", axis = 1)\n",
    "    temp_df.to_excel(writer, sheet_name = name, index = False, columns = [\"Date\", \"Commute Time\"])\n",
    "\n",
    "writer.save()"
   ]
  },
  {
   "cell_type": "markdown",
   "metadata": {},
   "source": [
    "## Taking Care of the Final Bits\n",
    "\n",
    "At this point, an Excel file should existig in the working directory (same directory as this notebook) that contains a sheet for each unique passenger name from the time period specified. At this stage, all that remains is to do the following:\n",
    "\n",
    "1. Run the next block of code (which will show the final amount each rider owes in USD) \n",
    "3. Copy that Excel document into the Finances/Commuting folder (an alias exists in the working directory for ease of use)\n",
    "2. Copy the data in each Excel sheet into an invoice Word doc for each passenger who owes money this month, using `CommuterInvoice_Template.docx` as the template for each invoice and using the naming schema `MM-YYYY_CommuterInvoice_PassengerName.docx`. \n",
    "    * Don't forget to put in the final amount they owe for that time period/month!\n"
   ]
  },
  {
   "cell_type": "code",
   "execution_count": 140,
   "metadata": {},
   "outputs": [
    {
     "data": {
      "text/plain": [
       "Passenger Name\n",
       "Sarah    9\n",
       "Name: Commute Time, dtype: int64"
      ]
     },
     "execution_count": 140,
     "metadata": {},
     "output_type": "execute_result"
    }
   ],
   "source": [
    "#How much does each rider owe??\n",
    "full_record.groupby(\"Passenger Name\").count()[\"Commute Time\"] * GOING_RATE"
   ]
  },
  {
   "cell_type": "code",
   "execution_count": null,
   "metadata": {},
   "outputs": [],
   "source": []
  }
 ],
 "metadata": {
  "kernelspec": {
   "display_name": "Python [conda env:CommuterInvoicing]",
   "language": "python",
   "name": "conda-env-CommuterInvoicing-py"
  },
  "language_info": {
   "codemirror_mode": {
    "name": "ipython",
    "version": 3
   },
   "file_extension": ".py",
   "mimetype": "text/x-python",
   "name": "python",
   "nbconvert_exporter": "python",
   "pygments_lexer": "ipython3",
   "version": "3.6.5"
  }
 },
 "nbformat": 4,
 "nbformat_minor": 2
}
