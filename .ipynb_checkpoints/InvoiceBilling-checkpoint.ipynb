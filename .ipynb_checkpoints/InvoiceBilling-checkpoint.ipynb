{
 "cells": [
  {
   "cell_type": "markdown",
   "metadata": {},
   "source": [
    "# Cameron Station Commuter Invoice Creator\n",
    "\n",
    "The purpose of the code in here is to generate nice and easy invoices for our various commuters throughout a given period of time (usually a calendar month).\n",
    "\n",
    "Ultimately, this code should record rides by date, sort them into rider-specific data frames, and spit out a nicely formatted string/invoice object (if I can find a Python package for that) that will tell a given rider the dates and times (e.g. Morning or Evening) that they rode with us, plus the total amount they owe us.\n",
    "\n",
    "**First things first, export the Commuter Google calendar as `calendar_data.ics` so we can ingest it!**"
   ]
  },
  {
   "cell_type": "markdown",
   "metadata": {},
   "source": [
    "## Imports and Constants"
   ]
  },
  {
   "cell_type": "code",
   "execution_count": null,
   "metadata": {},
   "outputs": [],
   "source": [
    "from icalendar import Calendar, Event\n",
    "from os import path\n",
    "import datetime as dt\n",
    "import pandas as pd"
   ]
  },
  {
   "cell_type": "code",
   "execution_count": null,
   "metadata": {},
   "outputs": [],
   "source": [
    "MORNING_COMMUTE_TIME = dt.time(hour = 8, minute = 0)\n",
    "EVENING_COMMUTE_TIME = dt.time(hour = 17, minute = 15)\n",
    "\n",
    "#Rate (in USD) per commuter per ride\n",
    "GOING_RATE = 3\n",
    "\n",
    "# NASA garage parking permit cost in USD\n",
    "PARKING_PERMIT_COST = 50"
   ]
  },
  {
   "cell_type": "markdown",
   "metadata": {},
   "source": [
    "## Ingesting Google Calendar export"
   ]
  },
  {
   "cell_type": "markdown",
   "metadata": {},
   "source": [
    "OK, now that we have our calender file, let's continue by defining a function that will allow us to pull in icalendar data objects and spit out useful strings."
   ]
  },
  {
   "cell_type": "code",
   "execution_count": null,
   "metadata": {},
   "outputs": [],
   "source": [
    "test = \"Passenger #1: KC\"\n",
    "passenger = pd.Series(test.split(\":\")).str.strip()\n",
    "\n",
    "# Make DataFrame with rows that represent string portions before and after colon\n",
    "# and columns split on whitespace from pre- and post-colon substrings\n",
    "separated_text = passenger.str.split(\" \", expand=True)\n",
    "passenger_name = separated_text.loc[1,0]\n",
    "extra_info = separated_text.loc[1,1:].str.cat(sep = \" \")\n",
    "\n",
    "# If no driver named, assume it's Becky\n",
    "if separated_text.loc[0,0] == \"Passenger\":\n",
    "    driver_name = \"Becky\"\n",
    "\n",
    "else:\n",
    "    driver_name = separated_text.loc[0,0]\n",
    "    \n",
    "separated_text"
   ]
  },
  {
   "cell_type": "code",
   "execution_count": null,
   "metadata": {},
   "outputs": [],
   "source": [
    "delta = dt.timedelta(hours = 3)\n",
    "\n",
    "def record_maker(event_summary, event_datetime):\n",
    "    \"\"\"\n",
    "    Extract info about commuter event and return in a useful format\n",
    "    \n",
    "    event_summary: icalendar component summary vText describing the title of the event. Expected\n",
    "                    to be of the format \"Passenger #X: Passenger_Name\"\n",
    "    event_date: icalendar component datetime value. Provides info on both the date of the commute\n",
    "                and the time (morning vs. evening) that the commute took place.\n",
    "                \n",
    "    Returns list of format [Date, Commute Time, Passenger Name]\n",
    "    \"\"\"\n",
    "    \n",
    "    #[Driver_Name Passenger Passenger_Num, Passenger_Name Extra_Info]\n",
    "    passenger_info = pd.Series(event_summary.split(\":\")).str.strip()\n",
    "    \n",
    "    # Make DataFrame with rows that represent string portions before and after colon\n",
    "    # and columns split on whitespace from pre- and post-colon substrings\n",
    "    separated_text = passenger_info.str.split(\" \", expand=True)\n",
    "    \n",
    "    passenger_name = separated_text.loc[1,0]\n",
    "    extra_info = separated_text.loc[1,1:].str.cat(sep = \" \")\n",
    "\n",
    "    # If no driver named, assume it's Becky\n",
    "    if separated_text.loc[0,0] == \"Passenger\":\n",
    "        driver_name = \"Becky\"\n",
    "\n",
    "    else:\n",
    "        driver_name = separated_text.loc[0,0]\n",
    "    \n",
    "    \n",
    "    t = event_datetime\n",
    "    delta = dt.timedelta(hours = 2)\n",
    "    \n",
    "    #Is the time of the commute within +/- delta hours of the usual time?\n",
    "    if (t + delta).time() >= MORNING_COMMUTE_TIME and (t - delta).time() <= MORNING_COMMUTE_TIME:\n",
    "        commute_time = \"Morning\"        \n",
    "        \n",
    "    elif (t + delta).time() >= EVENING_COMMUTE_TIME and (t - delta).time() <= EVENING_COMMUTE_TIME:\n",
    "        commute_time = \"Evening\"\n",
    "    else:\n",
    "        commute_time = \"ERROR! Event time doesn't match commute windows!\"\n",
    "        \n",
    "    #Check to make sure it actually found a name to match to\n",
    "    if len(passenger_info) > 1 and passenger_info[1].strip() != \"\":\n",
    "        output = [event_datetime.date().strftime(\"%x\"), \n",
    "                  commute_time, \n",
    "                  driver_name.title().strip(),\n",
    "                  passenger_name.title().strip(),\n",
    "                 extra_info]\n",
    "        \n",
    "        return output\n",
    "    \n",
    "           \n",
    "    else:\n",
    "        return []"
   ]
  },
  {
   "cell_type": "markdown",
   "metadata": {},
   "source": [
    "# You must change the start date for invoicing"
   ]
  },
  {
   "cell_type": "code",
   "execution_count": null,
   "metadata": {},
   "outputs": [],
   "source": [
    "#The start and end dates the invoice should cover. The invoice will be INCLUSIVE of these dates\n",
    "invoice_startdate = dt.date(2019,10,1)\n",
    "\n",
    "\n",
    "\n",
    "from dateutil.relativedelta import relativedelta\n",
    "invoice_enddate = invoice_startdate + relativedelta(months = +1, days = -1)\n",
    "\n",
    "data_dict = {\"Date\": [],\n",
    "            \"Commute Time\": [],\n",
    "             \"Driver Name\": [],\n",
    "            \"Passenger Name\": [],\n",
    "            \"Extra Info\": []}\n",
    "\n",
    "with open('calendar_data.ics','rb') as f:\n",
    "    gcal = Calendar.from_ical(f.read())\n",
    "    for component in gcal.walk():\n",
    "        temp_data = []\n",
    "        \n",
    "        #Check to make sure we skip useless calendar data\n",
    "        if component.get('summary'):\n",
    "            summary = component.get('summary')\n",
    "            dtstart = component.get('dtstart').dt\n",
    "            \n",
    "            #Check to make sure we're only looking at the period of time we want to invoice\n",
    "            if dtstart.date() >= invoice_startdate and dtstart.date() <= invoice_enddate:\n",
    "                temp_data = record_maker(summary, dtstart)\n",
    "                \n",
    "                #Make sure we're only recording records that include actual passengers\n",
    "                if temp_data:\n",
    "                    [data_dict[k].append(temp_data[i]) for i,k in enumerate(data_dict.keys())]"
   ]
  },
  {
   "cell_type": "markdown",
   "metadata": {},
   "source": [
    "## Making a Nice Date- and Time-Resolved Data Frame"
   ]
  },
  {
   "cell_type": "code",
   "execution_count": null,
   "metadata": {},
   "outputs": [],
   "source": [
    "#TODO: add in Driver Name and Extra Info columns\n",
    "full_record = pd.DataFrame(data_dict)\n",
    "full_record.sort_values([\"Date\", \"Driver Name\"], inplace=True)\n",
    "\n",
    "# Paul can be...inconsistent, at times.\n",
    "full_record.replace({'Pg': \"Paul\"}, inplace=True)\n",
    "full_record"
   ]
  },
  {
   "cell_type": "markdown",
   "metadata": {},
   "source": [
    "## Time to Generate That Invoice\n",
    "\n",
    "Likely the easiest thing to do here is to output an Excel file that only spits out dates of rides and commute segments (e.g. Morning or Evening) for each rider, making a new sheet for each new rider name. Then I can copy and paste those data sets into my Word-based invoice template and VOILA! Done."
   ]
  },
  {
   "cell_type": "code",
   "execution_count": null,
   "metadata": {},
   "outputs": [],
   "source": [
    "#Write each passenger's data as its own sheet/tab in the output Excel file\n",
    "\n",
    "# Save in path Commuting/<current_year>/YYYY-MM-DD_CommuterInvoices.xlsx\n",
    "base_path = \"/Users/emigre459/Dropbox/Shared Folder - Becky and Dave/Finances/Commuting\"\n",
    "filepath = path.join(base_path, str(dt.date.today().year), dt.date.today().isoformat() + \"_CommuterInvoices.xlsx\")\n",
    "\n",
    "writer = pd.ExcelWriter(filepath)\n",
    "\n",
    "#Iterate through the unique passenger names in the dataframe\n",
    "for name in full_record[\"Passenger Name\"].unique():\n",
    "    temp_df = full_record.groupby(\"Passenger Name\").get_group(name)\n",
    "    #Remove the Name field, as that will already be in the sheet name\n",
    "    temp_df.to_excel(writer, sheet_name = name, index = False)\n",
    "\n",
    "writer.save()"
   ]
  },
  {
   "cell_type": "markdown",
   "metadata": {},
   "source": [
    "## Taking Care of the Final Bits\n",
    "\n",
    "At this point, an Excel file should existig in the working directory (same directory as this notebook) that contains a sheet for each unique passenger name from the time period specified. At this stage, all that remains is to do the following:\n",
    "\n",
    "1. Run the next block of code (which will show the final amount each rider owes in USD) \n",
    "3. Copy that Excel document into the Finances/Commuting folder (an alias exists in the working directory for ease of use)\n",
    "2. Copy the data in each Excel sheet into an invoice Word doc for each passenger who owes money this month, using `CommuterInvoice_Template.docx` as the template for each invoice and using the naming schema `MM-YYYY_CommuterInvoice_PassengerName.docx`. \n",
    "    * Don't forget to put in the final amount they owe for that time period/month!\n"
   ]
  },
  {
   "cell_type": "code",
   "execution_count": null,
   "metadata": {},
   "outputs": [],
   "source": [
    "#How much does each rider owe??\n",
    "invoice = full_record.groupby([\"Driver Name\", \"Passenger Name\"]).count()[\"Commute Time\"] * GOING_RATE\n",
    "\n",
    "# Becky gets $25 credit for rides with KC due to \n",
    "# him owing us half of the monthly parking permit cost\n",
    "\n",
    "# Did Becky ride with him?\n",
    "if invoice['Kc'].index.str.contains(\"Becky\").sum() > 0:\n",
    "    invoice['Kc', 'Becky'] -= int(PARKING_PERMIT_COST / 2)\n",
    "\n",
    "else:\n",
    "    invoice['Kc', 'Becky'] = -int(PARKING_PERMIT_COST / 2)\n",
    "    \n",
    "    \n",
    "invoice"
   ]
  },
  {
   "cell_type": "code",
   "execution_count": null,
   "metadata": {},
   "outputs": [],
   "source": []
  }
 ],
 "metadata": {
  "kernelspec": {
   "display_name": "Python [conda env:CommuterInvoicing]",
   "language": "python",
   "name": "conda-env-CommuterInvoicing-py"
  },
  "language_info": {
   "codemirror_mode": {
    "name": "ipython",
    "version": 3
   },
   "file_extension": ".py",
   "mimetype": "text/x-python",
   "name": "python",
   "nbconvert_exporter": "python",
   "pygments_lexer": "ipython3",
   "version": "3.6.7"
  },
  "toc": {
   "base_numbering": 1,
   "nav_menu": {},
   "number_sections": true,
   "sideBar": true,
   "skip_h1_title": false,
   "title_cell": "Table of Contents",
   "title_sidebar": "Contents",
   "toc_cell": false,
   "toc_position": {},
   "toc_section_display": true,
   "toc_window_display": true
  },
  "varInspector": {
   "cols": {
    "lenName": 16,
    "lenType": 16,
    "lenVar": 40
   },
   "kernels_config": {
    "python": {
     "delete_cmd_postfix": "",
     "delete_cmd_prefix": "del ",
     "library": "var_list.py",
     "varRefreshCmd": "print(var_dic_list())"
    },
    "r": {
     "delete_cmd_postfix": ") ",
     "delete_cmd_prefix": "rm(",
     "library": "var_list.r",
     "varRefreshCmd": "cat(var_dic_list()) "
    }
   },
   "types_to_exclude": [
    "module",
    "function",
    "builtin_function_or_method",
    "instance",
    "_Feature"
   ],
   "window_display": false
  }
 },
 "nbformat": 4,
 "nbformat_minor": 4
}
