{
 "cells": [
  {
   "cell_type": "code",
   "execution_count": 73,
   "metadata": {},
   "outputs": [],
   "source": [
    "from icalendar import Calendar, Event\n",
    "import datetime as dt\n",
    "import pandas as pd\n",
    "\n",
    "MORNING_COMMUTE_TIME = dt.time(hour = 8, minute = 0)\n",
    "EVENING_COMMUTE_TIME = dt.time(hour = 17, minute = 15)\n",
    "\n",
    "def record_maker(event_summary, event_date):\n",
    "    \"\"\"\n",
    "    Extract info about commuter event and return in a useful format\n",
    "    \n",
    "    event_summary: icalendar component summary vText describing the title of the event. Expected\n",
    "                    to be of the format \"Passenger #X: Passenger_Name\"\n",
    "    event_date: icalendar component datetime value. Provides info on both the date of the commute\n",
    "                and the time (morning vs. evening) that the commute took place.\n",
    "                \n",
    "    Returns list of format [Date, Commute Time, Passenger Name]\n",
    "    \"\"\"\n",
    "    \n",
    "    #[Passenger Num Label, Passenger Name]\n",
    "    passenger_info = summary.split(\": \")\n",
    "\n",
    "    if dtstart.time() == MORNING_COMMUTE_TIME:\n",
    "        commute_time = \"Morning\"        \n",
    "    elif dtstart.time() == EVENING_COMMUTE_TIME:\n",
    "        commute_time = \"Evening\"\n",
    "    else:\n",
    "        commute_time = \"ERROR! Event time doesn't match commute windows!\"\n",
    "        \n",
    "    output = [dtstart.date().strftime(\"%x\"), commute_time, passenger_info[1]]\n",
    "    \n",
    "    if passenger_info[1] != \"\":\n",
    "        return output\n",
    "    else:\n",
    "        return []"
   ]
  },
  {
   "cell_type": "code",
   "execution_count": 76,
   "metadata": {},
   "outputs": [
    {
     "name": "stdout",
     "output_type": "stream",
     "text": [
      "Summary: Passenger #1: \n",
      "dtstart: 2018-04-30 08:00:00-04:00\n",
      "\n",
      "Types of Summary and dtstart, resp. = <class 'icalendar.prop.vText'> and <class 'datetime.datetime'>\n",
      "Summary: Passenger #2: \n",
      "dtstart: 2018-04-30 08:00:00-04:00\n",
      "\n",
      "Types of Summary and dtstart, resp. = <class 'icalendar.prop.vText'> and <class 'datetime.datetime'>\n",
      "Summary: Passenger #1: \n",
      "dtstart: 2018-04-30 17:15:00-04:00\n",
      "\n",
      "Types of Summary and dtstart, resp. = <class 'icalendar.prop.vText'> and <class 'datetime.datetime'>\n",
      "Summary: Passenger #2: \n",
      "dtstart: 2018-04-30 17:15:00-04:00\n",
      "\n",
      "Types of Summary and dtstart, resp. = <class 'icalendar.prop.vText'> and <class 'datetime.datetime'>\n",
      "Summary: Passenger #1: \n",
      "dtstart: 2018-05-02 17:15:00-04:00\n",
      "\n",
      "Types of Summary and dtstart, resp. = <class 'icalendar.prop.vText'> and <class 'datetime.datetime'>\n",
      "Summary: Passenger #1: Sarah\n",
      "dtstart: 2018-05-09 17:15:00-04:00\n",
      "\n",
      "Types of Summary and dtstart, resp. = <class 'icalendar.prop.vText'> and <class 'datetime.datetime'>\n",
      "Summary: Passenger #1: Sarah\n",
      "dtstart: 2018-05-07 17:15:00-04:00\n",
      "\n",
      "Types of Summary and dtstart, resp. = <class 'icalendar.prop.vText'> and <class 'datetime.datetime'>\n",
      "Summary: Passenger #1: Sarah\n",
      "dtstart: 2018-05-16 17:15:00-04:00\n",
      "\n",
      "Types of Summary and dtstart, resp. = <class 'icalendar.prop.vText'> and <class 'datetime.datetime'>\n"
     ]
    }
   ],
   "source": [
    "#The start and end dates the invoice should cover. The invoice will be INCLUSIVE of these dates\n",
    "invoice_startdate = dt.date(2018,4,30)\n",
    "invoice_enddate = dt.date(2018,5,31)\n",
    "\n",
    "data_dict = {\"Date\": [],\n",
    "            \"Commute Time\": [],\n",
    "            \"Passenger Name\": []}\n",
    "\n",
    "with open('Cameron Station Commuters_Sarah_3days.ics','rb') as f:\n",
    "    gcal = Calendar.from_ical(f.read())\n",
    "    for component in gcal.walk():\n",
    "        temp_data = []\n",
    "        \n",
    "        #Check to make sure we skip useless calendar data\n",
    "        if component.get('summary'):\n",
    "            summary = component.get('summary')\n",
    "            dtstart = component.get('dtstart').dt\n",
    "            \n",
    "            #Check to make sure we're only looking at the period of time we want to invoice\n",
    "            if dtstart.date() >= invoice_startdate and dtstart.date() <= invoice_enddate:\n",
    "                temp_data = record_maker(summary, dtstart)\n",
    "                \n",
    "                #Make sure we're only recording records that include actual passengers\n",
    "                if temp_data:\n",
    "                    data_dict[\"Date\"].append(temp_data[0])\n",
    "                    data_dict['Commute Time'].append(temp_data[1])\n",
    "                    data_dict[\"Passenger Name\"].append(temp_data[2])\n",
    "                \n",
    "                #print(\"Summary: {}\".format(summary))\n",
    "                #print(\"dtstart: {}\\n\".format(dtstart))\n",
    "                #print(\"Types of Summary and dtstart, resp. = {} and {}\".format(type(summary), type(dtstart)))"
   ]
  },
  {
   "cell_type": "code",
   "execution_count": 77,
   "metadata": {},
   "outputs": [
    {
     "data": {
      "text/plain": [
       "{'Date': ['05/09/18', '05/07/18', '05/16/18'],\n",
       " 'Commute Time': ['Evening', 'Evening', 'Evening'],\n",
       " 'Passenger Name': ['Sarah', 'Sarah', 'Sarah']}"
      ]
     },
     "execution_count": 77,
     "metadata": {},
     "output_type": "execute_result"
    }
   ],
   "source": [
    "data_dict"
   ]
  },
  {
   "cell_type": "code",
   "execution_count": null,
   "metadata": {},
   "outputs": [],
   "source": []
  }
 ],
 "metadata": {
  "kernelspec": {
   "display_name": "Python [conda env:CommuterInvoicing]",
   "language": "python",
   "name": "conda-env-CommuterInvoicing-py"
  },
  "language_info": {
   "codemirror_mode": {
    "name": "ipython",
    "version": 3
   },
   "file_extension": ".py",
   "mimetype": "text/x-python",
   "name": "python",
   "nbconvert_exporter": "python",
   "pygments_lexer": "ipython3",
   "version": "3.6.5"
  }
 },
 "nbformat": 4,
 "nbformat_minor": 2
}
