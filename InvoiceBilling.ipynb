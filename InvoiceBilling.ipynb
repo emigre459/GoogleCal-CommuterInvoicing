{
 "cells": [
  {
   "cell_type": "markdown",
   "metadata": {},
   "source": [
    "# Cameron Station Commuter Invoice Creator\n",
    "\n",
    "The purpose of the code in here is to generate nice and easy invoices for our various commuters throughout a given period of time (usually a calendar month).\n",
    "\n",
    "Ultimately, this code should record rides by date, sort them into rider-specific data frames, and spit out a nicely formatted string/invoice object (if I can find a Python package for that) that will tell a given rider the dates and times (e.g. Morning or Evening) that they rode with us, plus the total amount they owe us.\n",
    "\n",
    "**First things first, export the Commuter Google calendar as `calendar_data.ics` so we can ingest it!**"
   ]
  },
  {
   "cell_type": "markdown",
   "metadata": {},
   "source": [
    "# Imports"
   ]
  },
  {
   "cell_type": "code",
   "execution_count": null,
   "metadata": {},
   "outputs": [],
   "source": [
    "#from icalendar import Calendar, Event\n",
    "#from os import path\n",
    "import datetime as dt\n",
    "import pandas as pd\n",
    "import logging\n",
    "\n",
    "import pickle\n",
    "import os.path\n",
    "from googleapiclient.discovery import build\n",
    "from google_auth_oauthlib.flow import InstalledAppFlow\n",
    "from google.auth.transport.requests import Request"
   ]
  },
  {
   "cell_type": "markdown",
   "metadata": {},
   "source": [
    "# Constants"
   ]
  },
  {
   "cell_type": "code",
   "execution_count": null,
   "metadata": {},
   "outputs": [],
   "source": [
    "# If modifying these scopes, delete the file token.pickle.\n",
    "SCOPES = ['https://www.googleapis.com/auth/calendar.readonly']\n",
    "\n",
    "# Cameron Station Commuters calendar\n",
    "CALENDAR_ID = 'j03017amddesj4vcd6c7c0m1nc@group.calendar.google.com'\n",
    "\n",
    "MORNING_COMMUTE_TIME = dt.time(hour = 8, minute = 0)\n",
    "EVENING_COMMUTE_TIME = dt.time(hour = 17, minute = 15)\n",
    "\n",
    "#Rate (in USD) per commuter per ride\n",
    "GOING_RATE = 3\n",
    "\n",
    "# NASA garage monthly parking permit cost in USD\n",
    "PARKING_PERMIT_COST = 50\n",
    "\n",
    "LOG_FORMAT = '%(levelname)s (%(name)s) - %(message)s'\n",
    "\n",
    "logging.basicConfig(\n",
    "    format=LOG_FORMAT,\n",
    "    level=logging.ERROR,\n",
    "    datefmt='%m/%d/%Y %H:%M:%S')\n",
    "\n",
    "logger = logging.getLogger(__name__)"
   ]
  },
  {
   "cell_type": "markdown",
   "metadata": {},
   "source": [
    "## Ingesting Google Calendar Data"
   ]
  },
  {
   "cell_type": "code",
   "execution_count": null,
   "metadata": {},
   "outputs": [],
   "source": [
    "def check_google_api_credentials(token_filepath='./'):\n",
    "    '''\n",
    "    Checks to make sure you have the credentials needed to access the \n",
    "    commuter Google Calendar. If not, opens a browser tab to let you\n",
    "    login to obtain the proper credentials.\n",
    "    \n",
    "    This only needs to be run whenever you need to create or overwrite\n",
    "    your token.pickle file.\n",
    "    \n",
    "    \n",
    "    Parameters\n",
    "    ----------\n",
    "    token_filepath: str. Relative or absolute filepath to use\n",
    "        when looking for the credentials contained in token.pickle.\n",
    "        Default is to look in the current working directory.\n",
    "    \n",
    "    Returns\n",
    "    -------\n",
    "    API credentials and a token.pickle file \n",
    "    may be created if one wasn't already present \n",
    "    in the working directory.\n",
    "    '''\n",
    "    \n",
    "    creds = None\n",
    "    \n",
    "    # The file token.pickle stores the user's access and refresh tokens, and is\n",
    "    # created automatically when the authorization flow completes for the first\n",
    "    # time.\n",
    "    if os.path.exists(token_filepath + 'token.pickle'):\n",
    "        with open(token_filepath + 'token.pickle', 'rb') as token:\n",
    "            creds = pickle.load(token)\n",
    "            \n",
    "    # If there are no (valid) credentials available, let the user log in.\n",
    "    if not creds or not creds.valid:\n",
    "        if creds and creds.expired and creds.refresh_token:\n",
    "            creds.refresh(Request())\n",
    "        else:\n",
    "            flow = InstalledAppFlow.from_client_secrets_file(\n",
    "                'google_api_credentials.json', SCOPES)\n",
    "            creds = flow.run_local_server(port=0)\n",
    "        # Save the credentials for the next run\n",
    "        with open(token_filepath + 'token.pickle', 'wb') as token:\n",
    "            pickle.dump(creds, token)\n",
    "            \n",
    "    return creds"
   ]
  },
  {
   "cell_type": "code",
   "execution_count": null,
   "metadata": {},
   "outputs": [],
   "source": [
    "def get_events(start_date, end_date, creds):\n",
    "    \"\"\"\n",
    "    Returns all commuter events between start_date and end_date, inclusive.\n",
    "    \n",
    "    \n",
    "    Parameters\n",
    "    ----------\n",
    "    start_date: str of the format 05-05-2020 (May 5, 2020). \n",
    "        Indicates the start date for reporting\n",
    "        \n",
    "    end_date: str of the format 05-05-2020 (May 5, 2020). \n",
    "        Indicates the start date for reporting\n",
    "        \n",
    "    creds: Google OAuth2 credentials for API access\n",
    "    \n",
    "    \n",
    "    Returns\n",
    "    -------\n",
    "    List of the format \n",
    "    \"\"\"\n",
    "    \n",
    "    service = build('calendar', 'v3', credentials=creds)\n",
    "\n",
    "    start_date = dt.datetime.strptime(start_date, '%m-%d-%Y')\n",
    "    start = dt.datetime(year=start_date.year, \n",
    "                month=start_date.month, \n",
    "                day=start_date.day, \n",
    "                tzinfo=dt.timezone.utc).isoformat()[:-6] + 'Z'\n",
    "    \n",
    "    end_date = dt.datetime.strptime(end_date, '%m-%d-%Y')\n",
    "    end = dt.datetime(year=end_date.year, \n",
    "                month=end_date.month, \n",
    "                day=end_date.day, \n",
    "                tzinfo=dt.timezone.utc).isoformat()[:-6] + 'Z'\n",
    "    \n",
    "    print(f'Getting events between {start_date} and {end_date}, inclusive.')\n",
    "    \n",
    "    events_result = service.events().list(calendarId=CALENDAR_ID, \n",
    "                                          timeMin=start,\n",
    "                                          timeMax=end,\n",
    "                                          #maxResults=10, \n",
    "                                          singleEvents=True,\n",
    "                                          orderBy='startTime').execute()\n",
    "    \n",
    "    events = events_result.get('items', [])\n",
    "\n",
    "    if not events:\n",
    "        logging.error('No events found!')\n",
    "        \n",
    "    for event in events:\n",
    "        start = event['start'].get('dateTime', event['start'].get('date'))\n",
    "        print(start, event['summary'])\n",
    "        \n",
    "    return events"
   ]
  },
  {
   "cell_type": "code",
   "execution_count": null,
   "metadata": {},
   "outputs": [],
   "source": [
    "# After this line executes, you may need to allow the app Quickstart\n",
    "# access to your Google Account\n",
    "creds = check_google_api_credentials()\n",
    "\n",
    "events = get_events('01-01-2020',\n",
    "                   '01-31-2020',\n",
    "                   creds)"
   ]
  },
  {
   "cell_type": "code",
   "execution_count": null,
   "metadata": {},
   "outputs": [],
   "source": []
  },
  {
   "cell_type": "code",
   "execution_count": null,
   "metadata": {},
   "outputs": [],
   "source": [
    "events"
   ]
  },
  {
   "cell_type": "markdown",
   "metadata": {},
   "source": [
    "OK, now that we have our calender file, let's continue by defining a function that will allow us to pull in icalendar data objects and spit out useful strings."
   ]
  },
  {
   "cell_type": "code",
   "execution_count": null,
   "metadata": {},
   "outputs": [],
   "source": [
    "delta = dt.timedelta(hours = 3)\n",
    "\n",
    "def record_maker(event_summary, event_datetime):\n",
    "    \"\"\"\n",
    "    Extract info about commuter event and return in a useful format\n",
    "    \n",
    "    event_summary: icalendar component summary vText describing the title of the event. Expected\n",
    "                    to be of the format \"Passenger #X: Passenger_Name\"\n",
    "    event_date: icalendar component datetime value. Provides info on both the date of the commute\n",
    "                and the time (morning vs. evening) that the commute took place.\n",
    "                \n",
    "    Returns list of format [Date, Commute Time, Passenger Name]\n",
    "    \"\"\"\n",
    "    \n",
    "    #[Driver_Name Passenger Passenger_Num, Passenger_Name Extra_Info]\n",
    "    passenger_info = pd.Series(event_summary.split(\":\")).str.strip()\n",
    "    \n",
    "    # Make DataFrame with rows that represent string portions before and after colon\n",
    "    # and columns split on whitespace from pre- and post-colon substrings\n",
    "    separated_text = passenger_info.str.split(\" \", expand=True)\n",
    "    \n",
    "    passenger_name = separated_text.loc[1,0]\n",
    "    extra_info = separated_text.loc[1,1:].str.cat(sep = \" \")\n",
    "\n",
    "    # If no driver named, assume it's Becky\n",
    "    if separated_text.loc[0,0] == \"Passenger\":\n",
    "        driver_name = \"Becky\"\n",
    "\n",
    "    else:\n",
    "        driver_name = separated_text.loc[0,0]\n",
    "    \n",
    "    \n",
    "    t = event_datetime\n",
    "    delta = dt.timedelta(hours = 2)\n",
    "    \n",
    "    #Is the time of the commute within +/- delta hours of the usual time?\n",
    "    if (t + delta).time() >= MORNING_COMMUTE_TIME and (t - delta).time() <= MORNING_COMMUTE_TIME:\n",
    "        commute_time = \"Morning\"        \n",
    "        \n",
    "    elif (t + delta).time() >= EVENING_COMMUTE_TIME and (t - delta).time() <= EVENING_COMMUTE_TIME:\n",
    "        commute_time = \"Evening\"\n",
    "    else:\n",
    "        commute_time = \"ERROR! Event time doesn't match commute windows!\"\n",
    "        \n",
    "    #Check to make sure it actually found a name to match to\n",
    "    if len(passenger_info) > 1 and passenger_info[1].strip() != \"\":\n",
    "        output = [event_datetime.date().strftime(\"%x\"), \n",
    "                  commute_time, \n",
    "                  driver_name.title().strip(),\n",
    "                  passenger_name.title().strip(),\n",
    "                 extra_info]\n",
    "        \n",
    "        return output\n",
    "    \n",
    "           \n",
    "    else:\n",
    "        return []"
   ]
  },
  {
   "cell_type": "markdown",
   "metadata": {},
   "source": [
    "# You must change the start date for invoicing"
   ]
  },
  {
   "cell_type": "code",
   "execution_count": null,
   "metadata": {},
   "outputs": [],
   "source": [
    "#The start and end dates the invoice should cover. The invoice will be INCLUSIVE of these dates\n",
    "invoice_startdate = dt.date(2019,12,1)\n",
    "\n",
    "\n",
    "\n",
    "from dateutil.relativedelta import relativedelta\n",
    "invoice_enddate = invoice_startdate + relativedelta(months = +1, days = -1)\n",
    "\n",
    "data_dict = {\"Date\": [],\n",
    "            \"Commute Time\": [],\n",
    "             \"Driver Name\": [],\n",
    "            \"Passenger Name\": [],\n",
    "            \"Extra Info\": []}\n",
    "\n",
    "with open('calendar_data.ics','rb') as f:\n",
    "    gcal = Calendar.from_ical(f.read())\n",
    "    for component in gcal.walk():\n",
    "        temp_data = []\n",
    "        \n",
    "        #Check to make sure we skip useless calendar data\n",
    "        if component.get('summary'):\n",
    "            summary = component.get('summary')\n",
    "            dtstart = component.get('dtstart').dt\n",
    "            \n",
    "            #Check to make sure we're only looking at the period of time we want to invoice\n",
    "            if dtstart.date() >= invoice_startdate and dtstart.date() <= invoice_enddate:\n",
    "                temp_data = record_maker(summary, dtstart)\n",
    "                \n",
    "                #Make sure we're only recording records that include actual passengers\n",
    "                if temp_data:\n",
    "                    [data_dict[k].append(temp_data[i]) for i,k in enumerate(data_dict.keys())]"
   ]
  },
  {
   "cell_type": "markdown",
   "metadata": {},
   "source": [
    "## Making a Nice Date- and Time-Resolved Data Frame"
   ]
  },
  {
   "cell_type": "code",
   "execution_count": null,
   "metadata": {},
   "outputs": [],
   "source": [
    "#TODO: add in Driver Name and Extra Info columns\n",
    "full_record = pd.DataFrame(data_dict)\n",
    "full_record.sort_values([\"Date\", \"Driver Name\"], inplace=True)\n",
    "\n",
    "# Paul can be...inconsistent, at times.\n",
    "full_record.replace({'Pg': \"Paul\"}, inplace=True)\n",
    "full_record"
   ]
  },
  {
   "cell_type": "markdown",
   "metadata": {},
   "source": [
    "## Time to Generate That Invoice\n",
    "\n",
    "Likely the easiest thing to do here is to output an Excel file that only spits out dates of rides and commute segments (e.g. Morning or Evening) for each rider, making a new sheet for each new rider name. Then I can copy and paste those data sets into my Word-based invoice template and VOILA! Done."
   ]
  },
  {
   "cell_type": "code",
   "execution_count": null,
   "metadata": {},
   "outputs": [],
   "source": [
    "#Write each passenger's data as its own sheet/tab in the output Excel file\n",
    "\n",
    "# Save in path Commuting/<current_year>/YYYY-MM-DD_CommuterInvoices.xlsx\n",
    "base_path = \"/Users/emigre459/Dropbox/Shared Folder - Becky and Dave/Finances/Commuting\"\n",
    "filepath = path.join(base_path, str(dt.date.today().year), dt.date.today().isoformat() + \"_CommuterInvoices.xlsx\")\n",
    "\n",
    "writer = pd.ExcelWriter(filepath)\n",
    "\n",
    "#Iterate through the unique passenger names in the dataframe\n",
    "for name in full_record[\"Passenger Name\"].unique():\n",
    "    temp_df = full_record.groupby(\"Passenger Name\").get_group(name)\\\n",
    "    [['Date', 'Commute Time', 'Driver Name']]\n",
    "    \n",
    "    #Remove the Name field, as that will already be in the sheet name\n",
    "    temp_df.to_excel(writer, sheet_name = name, index = False)\n",
    "\n",
    "writer.save()"
   ]
  },
  {
   "cell_type": "markdown",
   "metadata": {},
   "source": [
    "## Taking Care of the Final Bits\n",
    "\n",
    "At this point, an Excel file should existig in the working directory (same directory as this notebook) that contains a sheet for each unique passenger name from the time period specified. At this stage, all that remains is to do the following:\n",
    "\n",
    "1. Run the next block of code (which will show the final amount each rider owes in USD) \n",
    "3. Copy that Excel document into the Finances/Commuting folder (an alias exists in the working directory for ease of use)\n",
    "2. Copy the data in each Excel sheet into an invoice Word doc for each passenger who owes money this month, using `CommuterInvoice_Template.docx` as the template for each invoice and using the naming schema `MM-YYYY_CommuterInvoice_PassengerName.docx`. \n",
    "    * Don't forget to put in the final amount they owe for that time period/month!\n"
   ]
  },
  {
   "cell_type": "code",
   "execution_count": null,
   "metadata": {},
   "outputs": [],
   "source": [
    "#How much does each rider owe??\n",
    "invoice = full_record.groupby([\"Driver Name\", \"Passenger Name\"]).count()[\"Commute Time\"] * GOING_RATE\n",
    "\n",
    "# Becky gets $25 credit for rides with KC due to \n",
    "# him owing us half of the monthly parking permit cost\n",
    "\n",
    "# Did Becky ride with him?\n",
    "if invoice['Kc'].index.str.contains(\"Becky\").sum() > 0:\n",
    "    invoice['Kc', 'Becky'] -= int(PARKING_PERMIT_COST / 2)\n",
    "\n",
    "else:\n",
    "    invoice['Kc', 'Becky'] = -int(PARKING_PERMIT_COST / 2)\n",
    "    \n",
    "    \n",
    "invoice"
   ]
  },
  {
   "cell_type": "markdown",
   "metadata": {},
   "source": [
    "**Remember: if Becky was KC's passenger and her amount is negative, that means KC owes her money (due to only partially or not at all offset of his half of the monthly NASA parking pass cost)**"
   ]
  },
  {
   "cell_type": "code",
   "execution_count": null,
   "metadata": {},
   "outputs": [],
   "source": []
  }
 ],
 "metadata": {
  "kernelspec": {
   "display_name": "Python [conda env:CommuterInvoicing]",
   "language": "python",
   "name": "conda-env-CommuterInvoicing-py"
  },
  "language_info": {
   "codemirror_mode": {
    "name": "ipython",
    "version": 3
   },
   "file_extension": ".py",
   "mimetype": "text/x-python",
   "name": "python",
   "nbconvert_exporter": "python",
   "pygments_lexer": "ipython3",
   "version": "3.6.9"
  },
  "toc": {
   "base_numbering": 1,
   "nav_menu": {},
   "number_sections": true,
   "sideBar": true,
   "skip_h1_title": false,
   "title_cell": "Table of Contents",
   "title_sidebar": "Contents",
   "toc_cell": false,
   "toc_position": {},
   "toc_section_display": true,
   "toc_window_display": true
  },
  "varInspector": {
   "cols": {
    "lenName": 16,
    "lenType": 16,
    "lenVar": 40
   },
   "kernels_config": {
    "python": {
     "delete_cmd_postfix": "",
     "delete_cmd_prefix": "del ",
     "library": "var_list.py",
     "varRefreshCmd": "print(var_dic_list())"
    },
    "r": {
     "delete_cmd_postfix": ") ",
     "delete_cmd_prefix": "rm(",
     "library": "var_list.r",
     "varRefreshCmd": "cat(var_dic_list()) "
    }
   },
   "types_to_exclude": [
    "module",
    "function",
    "builtin_function_or_method",
    "instance",
    "_Feature"
   ],
   "window_display": false
  }
 },
 "nbformat": 4,
 "nbformat_minor": 4
}
